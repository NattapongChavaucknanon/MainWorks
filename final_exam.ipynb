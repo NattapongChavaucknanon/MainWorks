{
 "cells": [
  {
   "cell_type": "markdown",
   "metadata": {},
   "source": [
    "# ข้อสอบปลายภาควิชา การเขียนโปรแกรมเชิงวัตถุ"
   ]
  },
  {
   "cell_type": "code",
   "execution_count": null,
   "metadata": {},
   "outputs": [],
   "source": [
    "\"\"\"\n",
    "ชื่อ - สกุล - รหัส\n",
    "นาย ณัฐธพงษ์ ชวอรรคนานนท์ 6612732109\n",
    "\n",
    "\"\"\""
   ]
  },
  {
   "cell_type": "markdown",
   "metadata": {},
   "source": [
    "## 1. เขียนโปรแกรมโดยใช้กลไกลการทำงานแบบ OOP ตามข้อกำหนดดังต่อไปนี้\n",
    "\n",
    "- จงสร้างคลาส Person\" ที่มีตัวแปร \"name\" และ \"age\" ซึ่งไม่สามารถเข้าถึงผ่านตัวแปร instance ได้ และเขียน method ที่ใช้สำหรับแก้ไข \"age\" จากภายในคลาส และ \"age\" จะต้องมีค่าเพิ่มขึ้นได้อย่างเดียวเท่านั้น\n",
    "\n",
    "- ภายใน Class Person กำหนดให้มี method ชื่อ getInfo() สำหรับแสดงข้อมูลบุคคลนั้น ๆ"
   ]
  },
  {
   "cell_type": "code",
   "execution_count": 30,
   "metadata": {},
   "outputs": [
    {
     "name": "stdout",
     "output_type": "stream",
     "text": [
      "Name: Airi, Age: 18\n",
      "Name: Airi, Age: 23\n"
     ]
    }
   ],
   "source": [
    "# เขียนโปรแกรมในช่องนี้\n",
    "class Person:\n",
    "    def __init__(self, name, age):\n",
    "        self._name = name\n",
    "        self._age = age\n",
    "\n",
    "    def set_age(self, new_age):\n",
    "        if new_age > self._age:\n",
    "            self._age = new_age\n",
    "\n",
    "    def getInfo(self):\n",
    "        return f\"Name: {self._name}, Age: {self._age}\"\n",
    "\n",
    "person1 = Person(\"Airi\", 18)\n",
    "print(person1.getInfo())\n",
    "\n",
    "person1.set_age(23)\n",
    "print(person1.getInfo())\n"
   ]
  },
  {
   "cell_type": "code",
   "execution_count": 31,
   "metadata": {},
   "outputs": [
    {
     "name": "stdout",
     "output_type": "stream",
     "text": [
      "Name: Airi, Age: 18\n",
      "Name: Shizuku, Age: 13\n"
     ]
    }
   ],
   "source": [
    "# จงสร้างตัวแปร instance จากคลาส Person\n",
    "person1 = Person(\"Airi\", 18)\n",
    "person2 = Person(\"Shizuku\", 13)\n",
    "\n",
    "print(person1.getInfo())\n",
    "print(person2.getInfo())\n"
   ]
  },
  {
   "cell_type": "code",
   "execution_count": 32,
   "metadata": {},
   "outputs": [
    {
     "name": "stdout",
     "output_type": "stream",
     "text": [
      "Name: Airi, Age: 35\n",
      "Name: Shizuku, Age: 28\n"
     ]
    }
   ],
   "source": [
    "# จงกำหนดอายุให้แก่ age\n",
    "person1.set_age(35)\n",
    "person2.set_age(28)\n",
    "\n",
    "print(person1.getInfo())\n",
    "print(person2.getInfo())\n"
   ]
  },
  {
   "cell_type": "code",
   "execution_count": 33,
   "metadata": {},
   "outputs": [
    {
     "name": "stdout",
     "output_type": "stream",
     "text": [
      "Name: Airi, Age: 35\n",
      "Name: Shizuku, Age: 28\n"
     ]
    }
   ],
   "source": [
    "# จงแสดงข้่อมูลบุคคลของตัวแปร instance \n",
    "print(person1.getInfo())\n",
    "print(person2.getInfo())\n"
   ]
  },
  {
   "cell_type": "markdown",
   "metadata": {},
   "source": [
    "## 2.จงสร้างคลาส Student ที่มีการสืบทอดคุณสมบัติจากคลาส Person ในข้อที่ 1\n",
    "\n",
    "- ในคลาส Student จะมีคุณสมบัติเพิ่มเข้ามาดังต่อไปนี้ \"student_id\" คือ รหัสนักศึกษา, \"major\" คือ สาขาวิชา และทั้งสองจะต้องเป็นคุณสมบัติที่ไม่สามารถแก้ไขได้หลังจากสร้างตัวแปร Instance แล้ว\n",
    "\n",
    "- และใน method getInfo() ให้เพิ่มการแแสดง รหัสนักศึกษา และ สาชาวิชา เข้ามาด้วย"
   ]
  },
  {
   "cell_type": "code",
   "execution_count": 36,
   "metadata": {},
   "outputs": [
    {
     "name": "stdout",
     "output_type": "stream",
     "text": [
      "Name: Akito\n",
      "Age: 17\n",
      "\n",
      "Name: An\n",
      "Age: 12\n",
      "Student ID: 12345\n",
      "Major: Computer Science\n"
     ]
    }
   ],
   "source": [
    "# เขียนโปรแกรมในช่องนี้\n",
    "class Person:\n",
    "    def __init__(self, name, age):\n",
    "        self.name = name\n",
    "        self.age = age\n",
    "\n",
    "    def getInfo(self):\n",
    "        print(f\"Name: {self.name}\")\n",
    "        print(f\"Age: {self.age}\")\n",
    "\n",
    "\n",
    "class Student(Person):\n",
    "    def __init__(self, name, age, student_id, major):\n",
    "        super().__init__(name, age)\n",
    "        self.__student_id = student_id\n",
    "        self.__major = major\n",
    "\n",
    "    def student_id(self):\n",
    "        return self.__student_id\n",
    "\n",
    "    def major(self):\n",
    "        return self.__major\n",
    "\n",
    "    def getInfo(self):\n",
    "        super().getInfo()\n",
    "        print(f\"Student ID: {self.__student_id}\")\n",
    "        print(f\"Major: {self.__major}\")\n",
    "\n",
    "person1 = Person(\"Akito\", 17)\n",
    "person1.getInfo()\n",
    "\n",
    "print()\n",
    "\n",
    "student1 = Student(\"An\", 12, \"12345\", \"Computer Science\")\n",
    "student1.getInfo()\n"
   ]
  },
  {
   "cell_type": "code",
   "execution_count": 38,
   "metadata": {},
   "outputs": [
    {
     "name": "stdout",
     "output_type": "stream",
     "text": [
      "Person Information:\n",
      "Name: Akito\n",
      "Age: 17\n",
      "\n",
      "Student Information:\n",
      "Name: An\n",
      "Age: 12\n",
      "Student ID: 12345\n",
      "Major: Computer Science\n"
     ]
    }
   ],
   "source": [
    "# จงสร้างตัวแปร instance จากคลาส Student\n",
    "person1 = Person(\"Akito\", 17)\n",
    "\n",
    "student1 = Student(\"An\", 12, \"12345\", \"Computer Science\")\n",
    "\n",
    "print(\"Person Information:\")\n",
    "person1.getInfo()\n",
    "\n",
    "print(\"\\nStudent Information:\")\n",
    "student1.getInfo()\n"
   ]
  },
  {
   "cell_type": "code",
   "execution_count": 39,
   "metadata": {},
   "outputs": [
    {
     "name": "stdout",
     "output_type": "stream",
     "text": [
      "Student Information:\n",
      "Name: An\n",
      "Age: 12\n",
      "Student ID: 12345\n",
      "Major: Computer Science\n"
     ]
    }
   ],
   "source": [
    "# จงแสดงข้่อมูลนักเรียนของตัวแปร instance \n",
    "print(\"Student Information:\")\n",
    "student1.getInfo()\n"
   ]
  },
  {
   "cell_type": "markdown",
   "metadata": {},
   "source": [
    "## 3.จงสร้างคลาส ComSciStudent ที่มีการสืบทอดคุณสมบัติจากคลาส Student ในข้อที่ 2\n",
    "\n",
    "- ในคลาส ComSciStudent จะมีคุณสมบัติที่รับเข้ามาแค่ \"student_id\" คือ รหัสนักศึกษา, แต่ \"major\" คือ สาขาวิชา จะมีค่า default เป็น \"Computer Science\" และทั้งสองจะต้องเป็นคุณสมบัติที่ไม่สามารถแก้ไขได้หลังจากสร้างตัวแปร Instance แล้ว\n",
    "\n",
    "- ในคลาส ComSciStudent จะมีคุณสมบัติที่เพิ่มเข้ามา อีก 1 ตัว คือ ความถนัด หรือ aptitude เพิ่มเข้ามา ซึ่งจะสามารถกำหนดได้ในกระบวนการสร้างตัวแปร instance และจะสามารถแก้ไขได้อีกโดยการแก้ไขผ่าน method ได้เท่านั้น\n",
    "\n",
    "\n",
    "- ในคลาส ComSciStudent จะมี method ชื่อว่า Coding() ซึ่งจะนำเสนอข้อมูลว่า นักศึกษา รหัสนักศึกษา ชื่อ กำลังเขียนโปรแกรมอยู่\n",
    "\n",
    "- ในคลาส ComSciStudent จะมี method ชื่อว่า getAptitude() ซึ่งจะนำเสนอข้อมูลว่า นักศึกษา รหัสนักศึกษา ชื่อ มีความถนัดเรื่อง ..."
   ]
  },
  {
   "cell_type": "code",
   "execution_count": 48,
   "metadata": {},
   "outputs": [
    {
     "name": "stdout",
     "output_type": "stream",
     "text": [
      "Student ID: 6612732108\n",
      "Name: Tsukasa\n",
      "Major: <bound method ComSciStudent.major of <__main__.ComSciStudent object at 0x0000024E29EAF210>>\n",
      "Aptitude: <bound method ComSciStudent.aptitude of <__main__.ComSciStudent object at 0x0000024E29EAF210>>\n",
      "Tsukasa with student ID 6612732108 is currently coding.\n",
      "Tsukasa with student ID 6612732108 has aptitude in Web Development\n"
     ]
    }
   ],
   "source": [
    "# เขียนโปรแกรมในช่องนี้\n",
    "class Student:\n",
    "    def __init__(self, student_id, name):\n",
    "        self.student_id = student_id\n",
    "        self.name = name\n",
    "\n",
    "    def display_info(self):\n",
    "        print(f\"Student ID: {self.student_id}\")\n",
    "        print(f\"Name: {self.name}\")\n",
    "\n",
    "\n",
    "class ComSciStudent(Student):\n",
    "    def __init__(self, student_id, name, aptitude, major=\"Computer Science\"):\n",
    "        super().__init__(student_id, name)\n",
    "        self.__major = major\n",
    "        self.__aptitude = aptitude\n",
    "\n",
    "    def major(self):\n",
    "        return self.__major\n",
    "\n",
    "    def aptitude(self):\n",
    "        return self.__aptitude\n",
    "\n",
    "    def aptitude(self, new_aptitude):\n",
    "        self.__aptitude = new_aptitude\n",
    "\n",
    "    def display_info(self):\n",
    "        super().display_info()\n",
    "        print(f\"Major: {self.major}\")\n",
    "        print(f\"Aptitude: {self.aptitude}\")\n",
    "\n",
    "    def coding(self):\n",
    "        print(f\"{self.name} with student ID {self.student_id} is currently coding.\")\n",
    "\n",
    "    def get_aptitude_info(self):\n",
    "        return f\"{self.name} with student ID {self.student_id} has aptitude in {self.aptitude}\"\n",
    "\n",
    "student1 = ComSciStudent(\"6612732108\", \"Tsukasa\", \"Programming\")\n",
    "student1.display_info()\n",
    "student1.coding()\n",
    "\n",
    "student1.aptitude = \"Web Development\"\n",
    "print(student1.get_aptitude_info())\n"
   ]
  },
  {
   "cell_type": "code",
   "execution_count": 49,
   "metadata": {},
   "outputs": [
    {
     "name": "stdout",
     "output_type": "stream",
     "text": [
      "Student ID: 6612732108\n",
      "Name: Tsukasa\n",
      "Major: <bound method ComSciStudent.major of <__main__.ComSciStudent object at 0x0000024E29E93110>>\n",
      "Aptitude: <bound method ComSciStudent.aptitude of <__main__.ComSciStudent object at 0x0000024E29E93110>>\n",
      "Tsukasa with student ID 6612732108 is currently coding.\n",
      "Tsukasa with student ID 6612732108 has aptitude in <bound method ComSciStudent.aptitude of <__main__.ComSciStudent object at 0x0000024E29E93110>>\n"
     ]
    }
   ],
   "source": [
    "# จงสร้างตัวแปร instance จากคลาส ComSciStudent\n",
    "student1 = ComSciStudent(\"6612732108\", \"Tsukasa\", \"Programming\")\n",
    "\n",
    "student1.display_info()\n",
    "\n",
    "student1.coding()\n",
    "\n",
    "print(student1.get_aptitude_info())\n"
   ]
  },
  {
   "cell_type": "code",
   "execution_count": 50,
   "metadata": {},
   "outputs": [
    {
     "name": "stdout",
     "output_type": "stream",
     "text": [
      "Student ID: 6612732108\n",
      "Name: Tsukasa\n",
      "Major: <bound method ComSciStudent.major of <__main__.ComSciStudent object at 0x0000024E29E93110>>\n",
      "Aptitude: <bound method ComSciStudent.aptitude of <__main__.ComSciStudent object at 0x0000024E29E93110>>\n"
     ]
    }
   ],
   "source": [
    "# จงแสดงข้่อมูลนักเรียนของตัวแปร instance \n",
    "student1.display_info()\n"
   ]
  },
  {
   "cell_type": "code",
   "execution_count": 51,
   "metadata": {},
   "outputs": [
    {
     "name": "stdout",
     "output_type": "stream",
     "text": [
      "Tsukasa with student ID 6612732108 is currently coding.\n"
     ]
    }
   ],
   "source": [
    "# จงแสดงการ coding\n",
    "student1.coding()\n"
   ]
  },
  {
   "cell_type": "code",
   "execution_count": 52,
   "metadata": {},
   "outputs": [
    {
     "name": "stdout",
     "output_type": "stream",
     "text": [
      "Tsukasa with student ID 6612732108 has aptitude in <bound method ComSciStudent.aptitude of <__main__.ComSciStudent object at 0x0000024E29E93110>>\n"
     ]
    }
   ],
   "source": [
    "# จงแสดงความถนัด\n",
    "print(student1.get_aptitude_info())\n"
   ]
  },
  {
   "cell_type": "code",
   "execution_count": 53,
   "metadata": {},
   "outputs": [
    {
     "name": "stdout",
     "output_type": "stream",
     "text": [
      "Tsukasa with student ID 6612732108 has aptitude in Python Programming\n"
     ]
    }
   ],
   "source": [
    "# จงแก้ไขความถนัด ให้เป็น Python Programing\n",
    "student1.aptitude = \"Python Programming\"\n",
    "\n",
    "print(student1.get_aptitude_info())\n"
   ]
  }
 ],
 "metadata": {
  "kernelspec": {
   "display_name": "Python 3 (ipykernel)",
   "language": "python",
   "name": "python3"
  },
  "language_info": {
   "codemirror_mode": {
    "name": "ipython",
    "version": 3
   },
   "file_extension": ".py",
   "mimetype": "text/x-python",
   "name": "python",
   "nbconvert_exporter": "python",
   "pygments_lexer": "ipython3",
   "version": "3.11.5"
  }
 },
 "nbformat": 4,
 "nbformat_minor": 4
}
